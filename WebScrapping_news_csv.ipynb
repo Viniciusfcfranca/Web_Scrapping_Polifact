{
 "cells": [
  {
   "cell_type": "markdown",
   "metadata": {
    "id": "I0Nw-GDV6WNE"
   },
   "source": [
    "# Importing the necessary packages"
   ]
  },
  {
   "cell_type": "code",
   "execution_count": 23,
   "metadata": {},
   "outputs": [],
   "source": [
    "from bs4 import BeautifulSoup\n",
    "import pandas as pd\n",
    "import requests\n",
    "import urllib.request\n",
    "import time"
   ]
  },
  {
   "cell_type": "markdown",
   "metadata": {},
   "source": [
    "# Creating the columns of the dataset "
   ]
  },
  {
   "cell_type": "markdown",
   "metadata": {},
   "source": [
    "By this part, we're going to create the columns by the format of lists that we're going to use in our dataframe. Right now they're empty, but they'll be filled soon."
   ]
  },
  {
   "cell_type": "code",
   "execution_count": 2,
   "metadata": {
    "id": "nABXTIVb6pRc"
   },
   "outputs": [],
   "source": [
    "authors = []\n",
    "dates = []\n",
    "statements = []\n",
    "sources = []\n",
    "targets = []"
   ]
  },
  {
   "cell_type": "markdown",
   "metadata": {},
   "source": [
    "# Creating a function to turn it easier to web scrap"
   ]
  },
  {
   "cell_type": "code",
   "execution_count": 6,
   "metadata": {
    "id": "em-NuAWN6vYS"
   },
   "outputs": [],
   "source": [
    "def scrape_website(page_number):\n",
    "    page_num = str(page_number)\n",
    "    URL = 'https://www.politifact.com/factchecks/list/?page='+page_num #Setting the URL of the site we're scrapping\n",
    "    webpage = requests.get(URL)\n",
    "    soup = BeautifulSoup(webpage.text, 'html.parser')\n",
    "    statement_footer = soup.find_all ('footer' , attrs={'class' : 'm-statement__footer'})\n",
    "    statement_quote = soup.find_all ('div' , attrs={'class' : 'm-statement__quote'})\n",
    "    statement_meta = soup.find_all ('div' , attrs={'class' : 'm-statement__meta'})\n",
    "    target = soup.find_all ('div' , attrs={'class' : 'm-statement__meter'})\n",
    "\n",
    "    for i in statement_footer:\n",
    "        link1 = i.text.strip()\n",
    "        name_and_date= link1.split()\n",
    "        first_name = name_and_date[1]\n",
    "        last_name = name_and_date[2]\n",
    "        full_name = first_name + ' ' + last_name\n",
    "        month = name_and_date[4]\n",
    "        day = name_and_date[5]\n",
    "        year = name_and_date[6]\n",
    "        date = month+' '+day+' '+year\n",
    "        dates.append(date)\n",
    "        authors.append(full_name)   \n",
    "\n",
    "    for i in statement_quote:\n",
    "        link2 = i.find_all('a')\n",
    "        statement_text = link2[0].text.strip()\n",
    "        statements.append(statement_text)\n",
    "\n",
    "    for i in statement_meta:\n",
    "        link3 = i.find_all('a')\n",
    "        source_text = link3[0].text.strip()\n",
    "        sources.append(source_text)\n",
    "\n",
    "    for i in target:\n",
    "        link4 = i.find('div' , attrs={'class' : 'c-image'}).find('img').get('alt')\n",
    "        targets.append(link4)"
   ]
  },
  {
   "cell_type": "code",
   "execution_count": 7,
   "metadata": {
    "id": "fzTLxjWA6wpb"
   },
   "outputs": [],
   "source": [
    "n = 50\n",
    "for i in range(1, n):\n",
    "    scrape_website(i) #This function was created specifically to scrap this site, so to scrap data from other sites it might not work"
   ]
  },
  {
   "cell_type": "code",
   "execution_count": 8,
   "metadata": {
    "id": "B3XXyZEG603J"
   },
   "outputs": [],
   "source": [
    "data = pd.DataFrame(columns = ['author','statement','source','date','target'])\n",
    "data['author']= authors\n",
    "data['statement']= statements\n",
    "data['source']= sources\n",
    "data['date']= dates\n",
    "data['target']= targets"
   ]
  },
  {
   "cell_type": "code",
   "execution_count": 9,
   "metadata": {
    "colab": {
     "base_uri": "https://localhost:8080/",
     "height": 202
    },
    "id": "9OP3e4lA69R5",
    "outputId": "0edee4bb-8802-4a78-b7f6-9e9508dfc58f"
   },
   "outputs": [
    {
     "data": {
      "text/html": [
       "<div>\n",
       "<style scoped>\n",
       "    .dataframe tbody tr th:only-of-type {\n",
       "        vertical-align: middle;\n",
       "    }\n",
       "\n",
       "    .dataframe tbody tr th {\n",
       "        vertical-align: top;\n",
       "    }\n",
       "\n",
       "    .dataframe thead th {\n",
       "        text-align: right;\n",
       "    }\n",
       "</style>\n",
       "<table border=\"1\" class=\"dataframe\">\n",
       "  <thead>\n",
       "    <tr style=\"text-align: right;\">\n",
       "      <th></th>\n",
       "      <th>author</th>\n",
       "      <th>statement</th>\n",
       "      <th>source</th>\n",
       "      <th>date</th>\n",
       "      <th>target</th>\n",
       "    </tr>\n",
       "  </thead>\n",
       "  <tbody>\n",
       "    <tr>\n",
       "      <th>0</th>\n",
       "      <td>Jeff Cercone</td>\n",
       "      <td>Washington’s State Board of Health will discus...</td>\n",
       "      <td>Facebook posts</td>\n",
       "      <td>January 11, 2022</td>\n",
       "      <td>barely-true</td>\n",
       "    </tr>\n",
       "    <tr>\n",
       "      <th>1</th>\n",
       "      <td>Ciara O'Rourke</td>\n",
       "      <td>Says Supreme Court Justice Sonia Sotomayor was...</td>\n",
       "      <td>Facebook posts</td>\n",
       "      <td>January 11, 2022</td>\n",
       "      <td>false</td>\n",
       "    </tr>\n",
       "    <tr>\n",
       "      <th>2</th>\n",
       "      <td>Madison Czopek</td>\n",
       "      <td>Walgreens refrigerators are scanning shoppers’...</td>\n",
       "      <td>Facebook posts</td>\n",
       "      <td>January 11, 2022</td>\n",
       "      <td>pants-fire</td>\n",
       "    </tr>\n",
       "    <tr>\n",
       "      <th>3</th>\n",
       "      <td>Nina Baker</td>\n",
       "      <td>Gov. Kim Reynolds, touting $210 million for Io...</td>\n",
       "      <td>Iowa Senate Democrats</td>\n",
       "      <td>January 11, 2022</td>\n",
       "      <td>true</td>\n",
       "    </tr>\n",
       "    <tr>\n",
       "      <th>4</th>\n",
       "      <td>Samantha Putterman</td>\n",
       "      <td>“New Zealand okays euthanasia for COVID patien...</td>\n",
       "      <td>Bloggers</td>\n",
       "      <td>January 11, 2022</td>\n",
       "      <td>barely-true</td>\n",
       "    </tr>\n",
       "  </tbody>\n",
       "</table>\n",
       "</div>"
      ],
      "text/plain": [
       "               author                                          statement  \\\n",
       "0        Jeff Cercone  Washington’s State Board of Health will discus...   \n",
       "1      Ciara O'Rourke  Says Supreme Court Justice Sonia Sotomayor was...   \n",
       "2      Madison Czopek  Walgreens refrigerators are scanning shoppers’...   \n",
       "3          Nina Baker  Gov. Kim Reynolds, touting $210 million for Io...   \n",
       "4  Samantha Putterman  “New Zealand okays euthanasia for COVID patien...   \n",
       "\n",
       "                  source              date       target  \n",
       "0         Facebook posts  January 11, 2022  barely-true  \n",
       "1         Facebook posts  January 11, 2022        false  \n",
       "2         Facebook posts  January 11, 2022   pants-fire  \n",
       "3  Iowa Senate Democrats  January 11, 2022         true  \n",
       "4               Bloggers  January 11, 2022  barely-true  "
      ]
     },
     "execution_count": 9,
     "metadata": {},
     "output_type": "execute_result"
    }
   ],
   "source": [
    "data.head()"
   ]
  },
  {
   "cell_type": "code",
   "execution_count": 10,
   "metadata": {
    "colab": {
     "base_uri": "https://localhost:8080/"
    },
    "id": "TEEwSFJc7OtY",
    "outputId": "d0e6e24c-7ac4-49ca-eaca-cd99a786da66"
   },
   "outputs": [
    {
     "data": {
      "text/plain": [
       "(2340, 5)"
      ]
     },
     "execution_count": 10,
     "metadata": {},
     "output_type": "execute_result"
    }
   ],
   "source": [
    "data.shape"
   ]
  },
  {
   "cell_type": "code",
   "execution_count": 19,
   "metadata": {
    "id": "CNERBGFg7s4v"
   },
   "outputs": [],
   "source": [
    "true = ['mostly-true', 'true']\n",
    "\n",
    "def  getBinaryNumTarget(text):\n",
    "    if text in true  :\n",
    "            return 0\n",
    "    else:\n",
    "        return 1\n",
    "        "
   ]
  },
  {
   "cell_type": "code",
   "execution_count": 20,
   "metadata": {
    "id": "lHQyhT4w8ReF"
   },
   "outputs": [],
   "source": [
    "data['BinaryNumTarget']= data['target'].apply(getBinaryNumTarget)\n"
   ]
  },
  {
   "cell_type": "code",
   "execution_count": 21,
   "metadata": {
    "colab": {
     "base_uri": "https://localhost:8080/",
     "height": 662
    },
    "id": "O2ikoI-y8aed",
    "outputId": "ea2a74e0-dce7-41e9-c2bd-dca7a7c4916c"
   },
   "outputs": [
    {
     "data": {
      "text/html": [
       "<div>\n",
       "<style scoped>\n",
       "    .dataframe tbody tr th:only-of-type {\n",
       "        vertical-align: middle;\n",
       "    }\n",
       "\n",
       "    .dataframe tbody tr th {\n",
       "        vertical-align: top;\n",
       "    }\n",
       "\n",
       "    .dataframe thead th {\n",
       "        text-align: right;\n",
       "    }\n",
       "</style>\n",
       "<table border=\"1\" class=\"dataframe\">\n",
       "  <thead>\n",
       "    <tr style=\"text-align: right;\">\n",
       "      <th></th>\n",
       "      <th>author</th>\n",
       "      <th>statement</th>\n",
       "      <th>source</th>\n",
       "      <th>date</th>\n",
       "      <th>target</th>\n",
       "      <th>BinaryNumTarget</th>\n",
       "    </tr>\n",
       "  </thead>\n",
       "  <tbody>\n",
       "    <tr>\n",
       "      <th>0</th>\n",
       "      <td>Jeff Cercone</td>\n",
       "      <td>Washington’s State Board of Health will discus...</td>\n",
       "      <td>Facebook posts</td>\n",
       "      <td>January 11, 2022</td>\n",
       "      <td>barely-true</td>\n",
       "      <td>1</td>\n",
       "    </tr>\n",
       "    <tr>\n",
       "      <th>1</th>\n",
       "      <td>Ciara O'Rourke</td>\n",
       "      <td>Says Supreme Court Justice Sonia Sotomayor was...</td>\n",
       "      <td>Facebook posts</td>\n",
       "      <td>January 11, 2022</td>\n",
       "      <td>false</td>\n",
       "      <td>1</td>\n",
       "    </tr>\n",
       "    <tr>\n",
       "      <th>2</th>\n",
       "      <td>Madison Czopek</td>\n",
       "      <td>Walgreens refrigerators are scanning shoppers’...</td>\n",
       "      <td>Facebook posts</td>\n",
       "      <td>January 11, 2022</td>\n",
       "      <td>pants-fire</td>\n",
       "      <td>1</td>\n",
       "    </tr>\n",
       "    <tr>\n",
       "      <th>3</th>\n",
       "      <td>Nina Baker</td>\n",
       "      <td>Gov. Kim Reynolds, touting $210 million for Io...</td>\n",
       "      <td>Iowa Senate Democrats</td>\n",
       "      <td>January 11, 2022</td>\n",
       "      <td>true</td>\n",
       "      <td>0</td>\n",
       "    </tr>\n",
       "    <tr>\n",
       "      <th>4</th>\n",
       "      <td>Samantha Putterman</td>\n",
       "      <td>“New Zealand okays euthanasia for COVID patien...</td>\n",
       "      <td>Bloggers</td>\n",
       "      <td>January 11, 2022</td>\n",
       "      <td>barely-true</td>\n",
       "      <td>1</td>\n",
       "    </tr>\n",
       "    <tr>\n",
       "      <th>5</th>\n",
       "      <td>Amy Sherman</td>\n",
       "      <td>Democrats “are trying to ban voter ID.”</td>\n",
       "      <td>Donald Trump</td>\n",
       "      <td>January 11, 2022</td>\n",
       "      <td>barely-true</td>\n",
       "      <td>1</td>\n",
       "    </tr>\n",
       "    <tr>\n",
       "      <th>6</th>\n",
       "      <td>Jeff Cercone</td>\n",
       "      <td>\"Clarence Thomas’s wife was one of the organiz...</td>\n",
       "      <td>Facebook posts</td>\n",
       "      <td>January 11, 2022</td>\n",
       "      <td>false</td>\n",
       "      <td>1</td>\n",
       "    </tr>\n",
       "    <tr>\n",
       "      <th>7</th>\n",
       "      <td>Vivian Lam</td>\n",
       "      <td>\"Biden's CDC Director ADMITS Her Own Employees...</td>\n",
       "      <td>Facebook posts</td>\n",
       "      <td>January 11, 2022</td>\n",
       "      <td>false</td>\n",
       "      <td>1</td>\n",
       "    </tr>\n",
       "    <tr>\n",
       "      <th>8</th>\n",
       "      <td>Ciara O'Rourke</td>\n",
       "      <td>“Barack Obama’s real father is Communist Party...</td>\n",
       "      <td>Viral image</td>\n",
       "      <td>January 10, 2022</td>\n",
       "      <td>pants-fire</td>\n",
       "      <td>1</td>\n",
       "    </tr>\n",
       "    <tr>\n",
       "      <th>9</th>\n",
       "      <td>Madison Czopek</td>\n",
       "      <td>“A tragic end today” for CNN’s Sanjay Gupta</td>\n",
       "      <td>Facebook posts</td>\n",
       "      <td>January 10, 2022</td>\n",
       "      <td>false</td>\n",
       "      <td>1</td>\n",
       "    </tr>\n",
       "    <tr>\n",
       "      <th>10</th>\n",
       "      <td>Ciara O'Rourke</td>\n",
       "      <td>Says Bob Saget died from the COVID-19 vaccine.</td>\n",
       "      <td>Tweets</td>\n",
       "      <td>January 10, 2022</td>\n",
       "      <td>false</td>\n",
       "      <td>1</td>\n",
       "    </tr>\n",
       "    <tr>\n",
       "      <th>11</th>\n",
       "      <td>Nusaiba Mizan</td>\n",
       "      <td>\"Expanding Medicaid, which if we had done at t...</td>\n",
       "      <td>Beto O'Rourke</td>\n",
       "      <td>January 10, 2022</td>\n",
       "      <td>mostly-true</td>\n",
       "      <td>0</td>\n",
       "    </tr>\n",
       "    <tr>\n",
       "      <th>12</th>\n",
       "      <td>Samantha Putterman</td>\n",
       "      <td>A law backed by Virginia Democrats barred loca...</td>\n",
       "      <td>Dana Perino</td>\n",
       "      <td>January 10, 2022</td>\n",
       "      <td>false</td>\n",
       "      <td>1</td>\n",
       "    </tr>\n",
       "    <tr>\n",
       "      <th>13</th>\n",
       "      <td>Bill McCarthy</td>\n",
       "      <td>Recently released Jan. 6 footage shows \"these ...</td>\n",
       "      <td>Dinesh D'Souza</td>\n",
       "      <td>January 10, 2022</td>\n",
       "      <td>false</td>\n",
       "      <td>1</td>\n",
       "    </tr>\n",
       "    <tr>\n",
       "      <th>14</th>\n",
       "      <td>Jill Terreri</td>\n",
       "      <td>Hochul is an “interim Governor.”</td>\n",
       "      <td>Tom Suozzi</td>\n",
       "      <td>• January 10,</td>\n",
       "      <td>pants-fire</td>\n",
       "      <td>1</td>\n",
       "    </tr>\n",
       "    <tr>\n",
       "      <th>15</th>\n",
       "      <td>Warren Fiske</td>\n",
       "      <td>“When I became mayor of the City of Richmond i...</td>\n",
       "      <td>Doug Wilder</td>\n",
       "      <td>January 10, 2022</td>\n",
       "      <td>half-true</td>\n",
       "      <td>1</td>\n",
       "    </tr>\n",
       "    <tr>\n",
       "      <th>16</th>\n",
       "      <td>Jon Greenberg</td>\n",
       "      <td>“We have over 100,000 children, which we’ve ne...</td>\n",
       "      <td>Sonia Sotomayor</td>\n",
       "      <td>January 7, 2022</td>\n",
       "      <td>false</td>\n",
       "      <td>1</td>\n",
       "    </tr>\n",
       "    <tr>\n",
       "      <th>17</th>\n",
       "      <td>Paul Specht</td>\n",
       "      <td>“Corporate profit margins are at their highest...</td>\n",
       "      <td>Erica Smith</td>\n",
       "      <td>January 7, 2022</td>\n",
       "      <td>half-true</td>\n",
       "      <td>1</td>\n",
       "    </tr>\n",
       "    <tr>\n",
       "      <th>18</th>\n",
       "      <td>Tom Kertscher</td>\n",
       "      <td>“No one has been hospitalized for” the omicron...</td>\n",
       "      <td>Rand Paul</td>\n",
       "      <td>January 7, 2022</td>\n",
       "      <td>false</td>\n",
       "      <td>1</td>\n",
       "    </tr>\n",
       "    <tr>\n",
       "      <th>19</th>\n",
       "      <td>Ciara O'Rourke</td>\n",
       "      <td>Says Georgia Secretary of State Brad Raffenspe...</td>\n",
       "      <td>Bloggers</td>\n",
       "      <td>January 7, 2022</td>\n",
       "      <td>false</td>\n",
       "      <td>1</td>\n",
       "    </tr>\n",
       "  </tbody>\n",
       "</table>\n",
       "</div>"
      ],
      "text/plain": [
       "                author                                          statement  \\\n",
       "0         Jeff Cercone  Washington’s State Board of Health will discus...   \n",
       "1       Ciara O'Rourke  Says Supreme Court Justice Sonia Sotomayor was...   \n",
       "2       Madison Czopek  Walgreens refrigerators are scanning shoppers’...   \n",
       "3           Nina Baker  Gov. Kim Reynolds, touting $210 million for Io...   \n",
       "4   Samantha Putterman  “New Zealand okays euthanasia for COVID patien...   \n",
       "5          Amy Sherman            Democrats “are trying to ban voter ID.”   \n",
       "6         Jeff Cercone  \"Clarence Thomas’s wife was one of the organiz...   \n",
       "7           Vivian Lam  \"Biden's CDC Director ADMITS Her Own Employees...   \n",
       "8       Ciara O'Rourke  “Barack Obama’s real father is Communist Party...   \n",
       "9       Madison Czopek        “A tragic end today” for CNN’s Sanjay Gupta   \n",
       "10      Ciara O'Rourke     Says Bob Saget died from the COVID-19 vaccine.   \n",
       "11       Nusaiba Mizan  \"Expanding Medicaid, which if we had done at t...   \n",
       "12  Samantha Putterman  A law backed by Virginia Democrats barred loca...   \n",
       "13       Bill McCarthy  Recently released Jan. 6 footage shows \"these ...   \n",
       "14        Jill Terreri                   Hochul is an “interim Governor.”   \n",
       "15        Warren Fiske  “When I became mayor of the City of Richmond i...   \n",
       "16       Jon Greenberg  “We have over 100,000 children, which we’ve ne...   \n",
       "17         Paul Specht  “Corporate profit margins are at their highest...   \n",
       "18       Tom Kertscher  “No one has been hospitalized for” the omicron...   \n",
       "19      Ciara O'Rourke  Says Georgia Secretary of State Brad Raffenspe...   \n",
       "\n",
       "                   source              date       target  BinaryNumTarget  \n",
       "0          Facebook posts  January 11, 2022  barely-true                1  \n",
       "1          Facebook posts  January 11, 2022        false                1  \n",
       "2          Facebook posts  January 11, 2022   pants-fire                1  \n",
       "3   Iowa Senate Democrats  January 11, 2022         true                0  \n",
       "4                Bloggers  January 11, 2022  barely-true                1  \n",
       "5            Donald Trump  January 11, 2022  barely-true                1  \n",
       "6          Facebook posts  January 11, 2022        false                1  \n",
       "7          Facebook posts  January 11, 2022        false                1  \n",
       "8             Viral image  January 10, 2022   pants-fire                1  \n",
       "9          Facebook posts  January 10, 2022        false                1  \n",
       "10                 Tweets  January 10, 2022        false                1  \n",
       "11          Beto O'Rourke  January 10, 2022  mostly-true                0  \n",
       "12            Dana Perino  January 10, 2022        false                1  \n",
       "13         Dinesh D'Souza  January 10, 2022        false                1  \n",
       "14             Tom Suozzi     • January 10,   pants-fire                1  \n",
       "15            Doug Wilder  January 10, 2022    half-true                1  \n",
       "16        Sonia Sotomayor   January 7, 2022        false                1  \n",
       "17            Erica Smith   January 7, 2022    half-true                1  \n",
       "18              Rand Paul   January 7, 2022        false                1  \n",
       "19               Bloggers   January 7, 2022        false                1  "
      ]
     },
     "execution_count": 21,
     "metadata": {},
     "output_type": "execute_result"
    }
   ],
   "source": [
    "data.head(20)"
   ]
  },
  {
   "cell_type": "code",
   "execution_count": 22,
   "metadata": {
    "id": "oWg9hpgy7tF9"
   },
   "outputs": [],
   "source": [
    "data.to_csv('fact_checker.csv')"
   ]
  }
 ],
 "metadata": {
  "colab": {
   "name": "WebScrapping_new_csv.ipynb",
   "provenance": []
  },
  "kernelspec": {
   "display_name": "Python 3",
   "language": "python",
   "name": "python3"
  },
  "language_info": {
   "codemirror_mode": {
    "name": "ipython",
    "version": 3
   },
   "file_extension": ".py",
   "mimetype": "text/x-python",
   "name": "python",
   "nbconvert_exporter": "python",
   "pygments_lexer": "ipython3",
   "version": "3.8.5"
  }
 },
 "nbformat": 4,
 "nbformat_minor": 1
}
